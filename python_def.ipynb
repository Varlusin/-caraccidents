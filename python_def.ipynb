{
  "nbformat": 4,
  "nbformat_minor": 0,
  "metadata": {
    "colab": {
      "private_outputs": true,
      "provenance": [],
      "authorship_tag": "ABX9TyN+Uy+rYTEWygIYGzLOS9AT",
      "include_colab_link": true
    },
    "kernelspec": {
      "name": "python3",
      "display_name": "Python 3"
    },
    "language_info": {
      "name": "python"
    }
  },
  "cells": [
    {
      "cell_type": "markdown",
      "metadata": {
        "id": "view-in-github",
        "colab_type": "text"
      },
      "source": [
        "<a href=\"https://colab.research.google.com/github/Varlusin/-caraccidents/blob/main/python_def.ipynb\" target=\"_parent\"><img src=\"https://colab.research.google.com/assets/colab-badge.svg\" alt=\"Open In Colab\"/></a>"
      ]
    },
    {
      "cell_type": "markdown",
      "source": [
        "# forma function \n",
        "def- \n",
        "\n",
        "---\n",
        "\n",
        "```\n",
        "def <name>(arg1, arg2,... argN):\n",
        "...\n",
        "return <value>\n",
        "```"
      ],
      "metadata": {
        "id": "VaDIHk5sZvhh"
      }
    },
    {
      "cell_type": "markdown",
      "source": [
        "def func(): ...   Создает объект функции\n",
        "\n",
        "func() # Вызывает объект\n",
        "\n",
        "func.attr = value # Присоединяет атрибут к объекту"
      ],
      "metadata": {
        "id": "4NnzpTY1dL8n"
      }
    },
    {
      "cell_type": "code",
      "source": [
        "def times (x,y): # Создать функцию и связать ее с именем\n",
        "  return x*y     # Тело, выполняемое при вызове функции\n",
        "\n",
        "times(5,7)       # Аргументы в круглых скобках"
      ],
      "metadata": {
        "id": "sLdHr5A-dgmM"
      },
      "execution_count": null,
      "outputs": []
    },
    {
      "cell_type": "code",
      "source": [
        "x = times(3.14, 4) # Сохранить объект результата\n",
        "x"
      ],
      "metadata": {
        "id": "9hwRI1Piey7K"
      },
      "execution_count": null,
      "outputs": []
    },
    {
      "cell_type": "code",
      "source": [
        "times('Ni', 4) # Функции не имеют типа\n"
      ],
      "metadata": {
        "id": "JkIksK_Be8E4"
      },
      "execution_count": null,
      "outputs": []
    },
    {
      "cell_type": "code",
      "source": [
        "def intersect(sec1,sec2):\n",
        "  res=[]                   # Изначально пустой результат\n",
        "  for i in sec1:           # Обход последовательности seq1\n",
        "    if i in sec2:          # Общий элемент?\n",
        "      res.append(i)        # Добавить в конец\n",
        "  return(res)"
      ],
      "metadata": {
        "id": "t1fBDBpbgQSY"
      },
      "execution_count": null,
      "outputs": []
    },
    {
      "cell_type": "code",
      "source": [
        "s1 = \"SPAM\"\n",
        "s2 = \"SCAM\"\n",
        "intersect(s1, s2) # Строки"
      ],
      "metadata": {
        "id": "QIMcFIgqhX-r"
      },
      "execution_count": null,
      "outputs": []
    },
    {
      "cell_type": "code",
      "source": [
        "[x for x in s1 if x in s2]"
      ],
      "metadata": {
        "id": "7dBN4JBqiRdR"
      },
      "execution_count": null,
      "outputs": []
    },
    {
      "cell_type": "code",
      "source": [
        "x = intersect([1, 2, 3], (1, 4)) # Смешивание типов\n",
        "x                                # Объект с результатом"
      ],
      "metadata": {
        "id": "A9A9Hy3TijMI"
      },
      "execution_count": null,
      "outputs": []
    },
    {
      "cell_type": "markdown",
      "source": [
        "# Локальные переменные"
      ],
      "metadata": {
        "id": "__r3F2FXjAYl"
      }
    },
    {
      "cell_type": "code",
      "source": [
        "i=10\n",
        "def intersect(sec1,sec2):\n",
        "  res=[]                   # Изначально пустой результат\n",
        "  for i in sec1:           # Обход последовательности seq1\n",
        "    if i in sec2:          # Общий элемент?\n",
        "      print (i)      \n",
        "      res.append(i) \n",
        "      print(res)       # Добавить в конец\n",
        "  return(res)\n",
        "\n",
        "s1 = \"SPAM\"\n",
        "s2 = \"SCAM\"\n",
        "intersect(s1, s2)\n",
        "print(i)"
      ],
      "metadata": {
        "id": "wHmBMLl0jEJ1"
      },
      "execution_count": null,
      "outputs": []
    },
    {
      "cell_type": "code",
      "source": [
        "x = 99\n",
        "print(x, ' this is global x')\n",
        "def func():\n",
        "  x = 88\n",
        "  print(x, ' this is local function x')\n",
        "func()\n"
      ],
      "metadata": {
        "id": "dsCVr595j3_T"
      },
      "execution_count": null,
      "outputs": []
    },
    {
      "cell_type": "markdown",
      "source": [
        "# Пример области видимости"
      ],
      "metadata": {
        "id": "CfwrjgbBpXMs"
      }
    },
    {
      "cell_type": "code",
      "source": [
        "# Глобальная область видимости\n",
        "X = 99 # X и func определены в модуле: глобальная область\n",
        "\n",
        "def func(Y):      # Y и Z определены в функции: локальная область\n",
        "  # Локальная область видимости\n",
        "  Z = X + Y       # X – глобальная переменная\n",
        "  return Z\n",
        "func(1)           # func в модуле: вернет число 100"
      ],
      "metadata": {
        "id": "U9I0RTvspahF"
      },
      "execution_count": null,
      "outputs": []
    },
    {
      "cell_type": "markdown",
      "source": [
        "**Встроенная область видимости**"
      ],
      "metadata": {
        "id": "qHoZAUZsqlAB"
      }
    },
    {
      "cell_type": "code",
      "source": [
        "import builtins\n",
        "dir(builtins)"
      ],
      "metadata": {
        "id": "D2NmPTkUq5Vd"
      },
      "execution_count": null,
      "outputs": []
    },
    {
      "cell_type": "code",
      "source": [
        "y, z, x = 1, 2, 0  # Глобальные переменные в модуле\n",
        "print(x)\n",
        "def all_global():\n",
        "  global x         # Объявляется глобальной для присваивания\n",
        "  x = y + z        # Объявлять y, z не требуется: применяется правило LEGB\n",
        "all_global()\n",
        "print(x)\n"
      ],
      "metadata": {
        "id": "5hlI3MtFrp7Z"
      },
      "execution_count": null,
      "outputs": []
    },
    {
      "cell_type": "code",
      "source": [
        "def f1():\n",
        "  X = 88\n",
        "  def f2():\n",
        "    print(X)     # Сохраняет значение X в объемлющей области видимости\n",
        "    return f2    # Возвращает f2, но не вызывает ее\n",
        "action = f1()    # Создает и возвращает функцию\n",
        "action()         # Вызов этой функции: выведет 88"
      ],
      "metadata": {
        "id": "pD1n_faqyjIt"
      },
      "execution_count": null,
      "outputs": []
    },
    {
      "cell_type": "markdown",
      "source": [
        "488"
      ],
      "metadata": {
        "id": "1R4Srj8O1ME5"
      }
    }
  ]
}